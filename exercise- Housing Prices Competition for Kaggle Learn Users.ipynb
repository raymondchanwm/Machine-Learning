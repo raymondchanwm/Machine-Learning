{
 "cells": [
  {
   "cell_type": "markdown",
   "id": "c1df4003",
   "metadata": {
    "papermill": {
     "duration": 0.021391,
     "end_time": "2022-03-15T07:33:43.737398",
     "exception": false,
     "start_time": "2022-03-15T07:33:43.716007",
     "status": "completed"
    },
    "tags": []
   },
   "source": [
    "**This notebook is an exercise in the [Introduction to Machine Learning](https://www.kaggle.com/learn/intro-to-machine-learning) course.  You can reference the tutorial at [this link](https://www.kaggle.com/dansbecker/your-first-machine-learning-model).**\n",
    "\n",
    "---\n"
   ]
  },
  {
   "cell_type": "markdown",
   "id": "451d9638",
   "metadata": {
    "papermill": {
     "duration": 0.018434,
     "end_time": "2022-03-15T07:33:43.775543",
     "exception": false,
     "start_time": "2022-03-15T07:33:43.757109",
     "status": "completed"
    },
    "tags": []
   },
   "source": [
    "## Recap\n",
    "So far, you have loaded your data and reviewed it with the following code. Run this cell to set up your coding environment where the previous step left off."
   ]
  },
  {
   "cell_type": "code",
   "execution_count": 1,
   "id": "93bbd73a",
   "metadata": {
    "execution": {
     "iopub.execute_input": "2022-03-15T07:33:43.819391Z",
     "iopub.status.busy": "2022-03-15T07:33:43.817586Z",
     "iopub.status.idle": "2022-03-15T07:33:45.269508Z",
     "shell.execute_reply": "2022-03-15T07:33:45.268565Z",
     "shell.execute_reply.started": "2022-03-15T07:17:40.753294Z"
    },
    "papermill": {
     "duration": 1.475523,
     "end_time": "2022-03-15T07:33:45.269713",
     "exception": false,
     "start_time": "2022-03-15T07:33:43.794190",
     "status": "completed"
    },
    "tags": []
   },
   "outputs": [
    {
     "name": "stdout",
     "output_type": "stream",
     "text": [
      "Setup Complete\n"
     ]
    }
   ],
   "source": [
    "# Code you have previously used to load data\n",
    "import pandas as pd\n",
    "\n",
    "# Path of the file to read\n",
    "iowa_file_path = '../input/home-data-for-ml-course/train.csv'\n",
    "\n",
    "home_data = pd.read_csv(iowa_file_path)\n",
    "\n",
    "# Set up code checking\n",
    "from learntools.core import binder\n",
    "binder.bind(globals())\n",
    "from learntools.machine_learning.ex3 import *\n",
    "\n",
    "print(\"Setup Complete\")"
   ]
  },
  {
   "cell_type": "markdown",
   "id": "29963b26",
   "metadata": {
    "papermill": {
     "duration": 0.018969,
     "end_time": "2022-03-15T07:33:45.309175",
     "exception": false,
     "start_time": "2022-03-15T07:33:45.290206",
     "status": "completed"
    },
    "tags": []
   },
   "source": [
    "# Exercises\n",
    "\n",
    "## Step 1: Specify Prediction Target\n",
    "Select the target variable, which corresponds to the sales price. Save this to a new variable called `y`. You'll need to print a list of the columns to find the name of the column you need.\n"
   ]
  },
  {
   "cell_type": "code",
   "execution_count": 2,
   "id": "1f38c12d",
   "metadata": {
    "execution": {
     "iopub.execute_input": "2022-03-15T07:33:45.356961Z",
     "iopub.status.busy": "2022-03-15T07:33:45.356278Z",
     "iopub.status.idle": "2022-03-15T07:33:45.359355Z",
     "shell.execute_reply": "2022-03-15T07:33:45.359843Z",
     "shell.execute_reply.started": "2022-03-15T07:17:41.823456Z"
    },
    "papermill": {
     "duration": 0.031767,
     "end_time": "2022-03-15T07:33:45.360006",
     "exception": false,
     "start_time": "2022-03-15T07:33:45.328239",
     "status": "completed"
    },
    "tags": []
   },
   "outputs": [
    {
     "data": {
      "text/plain": [
       "Index(['Id', 'MSSubClass', 'MSZoning', 'LotFrontage', 'LotArea', 'Street',\n",
       "       'Alley', 'LotShape', 'LandContour', 'Utilities', 'LotConfig',\n",
       "       'LandSlope', 'Neighborhood', 'Condition1', 'Condition2', 'BldgType',\n",
       "       'HouseStyle', 'OverallQual', 'OverallCond', 'YearBuilt', 'YearRemodAdd',\n",
       "       'RoofStyle', 'RoofMatl', 'Exterior1st', 'Exterior2nd', 'MasVnrType',\n",
       "       'MasVnrArea', 'ExterQual', 'ExterCond', 'Foundation', 'BsmtQual',\n",
       "       'BsmtCond', 'BsmtExposure', 'BsmtFinType1', 'BsmtFinSF1',\n",
       "       'BsmtFinType2', 'BsmtFinSF2', 'BsmtUnfSF', 'TotalBsmtSF', 'Heating',\n",
       "       'HeatingQC', 'CentralAir', 'Electrical', '1stFlrSF', '2ndFlrSF',\n",
       "       'LowQualFinSF', 'GrLivArea', 'BsmtFullBath', 'BsmtHalfBath', 'FullBath',\n",
       "       'HalfBath', 'BedroomAbvGr', 'KitchenAbvGr', 'KitchenQual',\n",
       "       'TotRmsAbvGrd', 'Functional', 'Fireplaces', 'FireplaceQu', 'GarageType',\n",
       "       'GarageYrBlt', 'GarageFinish', 'GarageCars', 'GarageArea', 'GarageQual',\n",
       "       'GarageCond', 'PavedDrive', 'WoodDeckSF', 'OpenPorchSF',\n",
       "       'EnclosedPorch', '3SsnPorch', 'ScreenPorch', 'PoolArea', 'PoolQC',\n",
       "       'Fence', 'MiscFeature', 'MiscVal', 'MoSold', 'YrSold', 'SaleType',\n",
       "       'SaleCondition', 'SalePrice'],\n",
       "      dtype='object')"
      ]
     },
     "execution_count": 2,
     "metadata": {},
     "output_type": "execute_result"
    }
   ],
   "source": [
    "# print the list of columns in the dataset to find the name of the prediction target\n",
    "home_data.columns"
   ]
  },
  {
   "cell_type": "code",
   "execution_count": 3,
   "id": "2a0c1351",
   "metadata": {
    "execution": {
     "iopub.execute_input": "2022-03-15T07:33:45.402644Z",
     "iopub.status.busy": "2022-03-15T07:33:45.402024Z",
     "iopub.status.idle": "2022-03-15T07:33:45.418053Z",
     "shell.execute_reply": "2022-03-15T07:33:45.418510Z",
     "shell.execute_reply.started": "2022-03-15T07:33:03.288185Z"
    },
    "papermill": {
     "duration": 0.039247,
     "end_time": "2022-03-15T07:33:45.418680",
     "exception": false,
     "start_time": "2022-03-15T07:33:45.379433",
     "status": "completed"
    },
    "tags": []
   },
   "outputs": [
    {
     "name": "stdout",
     "output_type": "stream",
     "text": [
      "0    208500\n",
      "1    181500\n",
      "2    223500\n",
      "3    140000\n",
      "4    250000\n",
      "Name: SalePrice, dtype: int64\n"
     ]
    },
    {
     "data": {
      "application/javascript": [
       "parent.postMessage({\"jupyterEvent\": \"custom.exercise_interaction\", \"data\": {\"outcomeType\": 1, \"valueTowardsCompletion\": 0.25, \"interactionType\": 1, \"questionType\": 2, \"questionId\": \"1_SetTarget\", \"learnToolsVersion\": \"0.3.4\", \"failureMessage\": \"\", \"exceptionClass\": \"\", \"trace\": \"\"}}, \"*\")"
      ],
      "text/plain": [
       "<IPython.core.display.Javascript object>"
      ]
     },
     "metadata": {},
     "output_type": "display_data"
    },
    {
     "data": {
      "text/markdown": [
       "<span style=\"color:#33cc33\">Correct</span>"
      ],
      "text/plain": [
       "Correct"
      ]
     },
     "metadata": {},
     "output_type": "display_data"
    }
   ],
   "source": [
    "y =  home_data.SalePrice\n",
    "print(y.head())\n",
    "# Check your answer\n",
    "step_1.check()"
   ]
  },
  {
   "cell_type": "code",
   "execution_count": 4,
   "id": "bcb943ba",
   "metadata": {
    "execution": {
     "iopub.execute_input": "2022-03-15T07:33:45.466603Z",
     "iopub.status.busy": "2022-03-15T07:33:45.465986Z",
     "iopub.status.idle": "2022-03-15T07:33:45.471787Z",
     "shell.execute_reply": "2022-03-15T07:33:45.472322Z",
     "shell.execute_reply.started": "2022-03-15T07:17:41.849575Z"
    },
    "papermill": {
     "duration": 0.032806,
     "end_time": "2022-03-15T07:33:45.472514",
     "exception": false,
     "start_time": "2022-03-15T07:33:45.439708",
     "status": "completed"
    },
    "tags": []
   },
   "outputs": [
    {
     "data": {
      "application/javascript": [
       "parent.postMessage({\"jupyterEvent\": \"custom.exercise_interaction\", \"data\": {\"interactionType\": 3, \"questionType\": 2, \"questionId\": \"1_SetTarget\", \"learnToolsVersion\": \"0.3.4\", \"valueTowardsCompletion\": 0.0, \"failureMessage\": \"\", \"exceptionClass\": \"\", \"trace\": \"\", \"outcomeType\": 4}}, \"*\")"
      ],
      "text/plain": [
       "<IPython.core.display.Javascript object>"
      ]
     },
     "metadata": {},
     "output_type": "display_data"
    },
    {
     "data": {
      "text/markdown": [
       "<span style=\"color:#33cc99\">Solution:</span> \n",
       "```python\n",
       "y = home_data.SalePrice\n",
       "```"
      ],
      "text/plain": [
       "Solution: \n",
       "```python\n",
       "y = home_data.SalePrice\n",
       "```"
      ]
     },
     "metadata": {},
     "output_type": "display_data"
    }
   ],
   "source": [
    "# The lines below will show you a hint or the solution.\n",
    "# step_1.hint() \n",
    "step_1.solution()"
   ]
  },
  {
   "cell_type": "markdown",
   "id": "9e995523",
   "metadata": {
    "papermill": {
     "duration": 0.02278,
     "end_time": "2022-03-15T07:33:45.519025",
     "exception": false,
     "start_time": "2022-03-15T07:33:45.496245",
     "status": "completed"
    },
    "tags": []
   },
   "source": [
    "## Step 2: Create X\n",
    "Now you will create a DataFrame called `X` holding the predictive features.\n",
    "\n",
    "Since you want only some columns from the original data, you'll first create a list with the names of the columns you want in `X`.\n",
    "\n",
    "You'll use just the following columns in the list (you can copy and paste the whole list to save some typing, though you'll still need to add quotes):\n",
    "    * LotArea\n",
    "    * YearBuilt\n",
    "    * 1stFlrSF\n",
    "    * 2ndFlrSF\n",
    "    * FullBath\n",
    "    * BedroomAbvGr\n",
    "    * TotRmsAbvGrd\n",
    "\n",
    "After you've created that list of features, use it to create the DataFrame that you'll use to fit the model."
   ]
  },
  {
   "cell_type": "code",
   "execution_count": 5,
   "id": "71bbb19a",
   "metadata": {
    "execution": {
     "iopub.execute_input": "2022-03-15T07:33:45.569228Z",
     "iopub.status.busy": "2022-03-15T07:33:45.568185Z",
     "iopub.status.idle": "2022-03-15T07:33:45.582706Z",
     "shell.execute_reply": "2022-03-15T07:33:45.583276Z",
     "shell.execute_reply.started": "2022-03-15T07:24:21.761038Z"
    },
    "papermill": {
     "duration": 0.04153,
     "end_time": "2022-03-15T07:33:45.583482",
     "exception": false,
     "start_time": "2022-03-15T07:33:45.541952",
     "status": "completed"
    },
    "tags": []
   },
   "outputs": [
    {
     "data": {
      "application/javascript": [
       "parent.postMessage({\"jupyterEvent\": \"custom.exercise_interaction\", \"data\": {\"outcomeType\": 1, \"valueTowardsCompletion\": 0.25, \"interactionType\": 1, \"questionType\": 2, \"questionId\": \"2_SelectPredictionData\", \"learnToolsVersion\": \"0.3.4\", \"failureMessage\": \"\", \"exceptionClass\": \"\", \"trace\": \"\"}}, \"*\")"
      ],
      "text/plain": [
       "<IPython.core.display.Javascript object>"
      ]
     },
     "metadata": {},
     "output_type": "display_data"
    },
    {
     "data": {
      "text/markdown": [
       "<span style=\"color:#33cc33\">Correct</span>"
      ],
      "text/plain": [
       "Correct"
      ]
     },
     "metadata": {},
     "output_type": "display_data"
    }
   ],
   "source": [
    "# Create the list of features below\n",
    "feature_names = [\"LotArea\", \"YearBuilt\", \"1stFlrSF\", \"2ndFlrSF\",\n",
    "                      \"FullBath\", \"BedroomAbvGr\", \"TotRmsAbvGrd\"]\n",
    "\n",
    "# Select data corresponding to features in feature_names\n",
    "X = home_data[feature_names]\n",
    "\n",
    "# Check your answer\n",
    "step_2.check()"
   ]
  },
  {
   "cell_type": "code",
   "execution_count": 6,
   "id": "2605a7bf",
   "metadata": {
    "execution": {
     "iopub.execute_input": "2022-03-15T07:33:45.635632Z",
     "iopub.status.busy": "2022-03-15T07:33:45.634621Z",
     "iopub.status.idle": "2022-03-15T07:33:45.645840Z",
     "shell.execute_reply": "2022-03-15T07:33:45.646348Z",
     "shell.execute_reply.started": "2022-03-15T07:17:41.880042Z"
    },
    "papermill": {
     "duration": 0.039229,
     "end_time": "2022-03-15T07:33:45.646547",
     "exception": false,
     "start_time": "2022-03-15T07:33:45.607318",
     "status": "completed"
    },
    "tags": []
   },
   "outputs": [
    {
     "data": {
      "application/javascript": [
       "parent.postMessage({\"jupyterEvent\": \"custom.exercise_interaction\", \"data\": {\"interactionType\": 2, \"questionType\": 2, \"questionId\": \"2_SelectPredictionData\", \"learnToolsVersion\": \"0.3.4\", \"valueTowardsCompletion\": 0.0, \"failureMessage\": \"\", \"exceptionClass\": \"\", \"trace\": \"\", \"outcomeType\": 4}}, \"*\")"
      ],
      "text/plain": [
       "<IPython.core.display.Javascript object>"
      ]
     },
     "metadata": {},
     "output_type": "display_data"
    },
    {
     "data": {
      "text/markdown": [
       "<span style=\"color:#3366cc\">Hint:</span> Capitalization and spelling are important when specifying variable names. Use the brackets notation when specifying data for X."
      ],
      "text/plain": [
       "Hint: Capitalization and spelling are important when specifying variable names. Use the brackets notation when specifying data for X."
      ]
     },
     "metadata": {},
     "output_type": "display_data"
    },
    {
     "data": {
      "application/javascript": [
       "parent.postMessage({\"jupyterEvent\": \"custom.exercise_interaction\", \"data\": {\"interactionType\": 3, \"questionType\": 2, \"questionId\": \"2_SelectPredictionData\", \"learnToolsVersion\": \"0.3.4\", \"valueTowardsCompletion\": 0.0, \"failureMessage\": \"\", \"exceptionClass\": \"\", \"trace\": \"\", \"outcomeType\": 4}}, \"*\")"
      ],
      "text/plain": [
       "<IPython.core.display.Javascript object>"
      ]
     },
     "metadata": {},
     "output_type": "display_data"
    },
    {
     "data": {
      "text/markdown": [
       "<span style=\"color:#33cc99\">Solution:</span> \n",
       "```python\n",
       "feature_names = [\"LotArea\", \"YearBuilt\", \"1stFlrSF\", \"2ndFlrSF\",\n",
       "                      \"FullBath\", \"BedroomAbvGr\", \"TotRmsAbvGrd\"]\n",
       "\n",
       "X=home_data[feature_names]\n",
       "```"
      ],
      "text/plain": [
       "Solution: \n",
       "```python\n",
       "feature_names = [\"LotArea\", \"YearBuilt\", \"1stFlrSF\", \"2ndFlrSF\",\n",
       "                      \"FullBath\", \"BedroomAbvGr\", \"TotRmsAbvGrd\"]\n",
       "\n",
       "X=home_data[feature_names]\n",
       "```"
      ]
     },
     "metadata": {},
     "output_type": "display_data"
    }
   ],
   "source": [
    "step_2.hint()\n",
    "step_2.solution()"
   ]
  },
  {
   "cell_type": "markdown",
   "id": "d6c51615",
   "metadata": {
    "papermill": {
     "duration": 0.026243,
     "end_time": "2022-03-15T07:33:45.701272",
     "exception": false,
     "start_time": "2022-03-15T07:33:45.675029",
     "status": "completed"
    },
    "tags": []
   },
   "source": [
    "## Review Data\n",
    "Before building a model, take a quick look at **X** to verify it looks sensible"
   ]
  },
  {
   "cell_type": "code",
   "execution_count": 7,
   "id": "fcd001ed",
   "metadata": {
    "execution": {
     "iopub.execute_input": "2022-03-15T07:33:45.758637Z",
     "iopub.status.busy": "2022-03-15T07:33:45.757601Z",
     "iopub.status.idle": "2022-03-15T07:33:45.796427Z",
     "shell.execute_reply": "2022-03-15T07:33:45.795828Z",
     "shell.execute_reply.started": "2022-03-15T07:17:41.893500Z"
    },
    "papermill": {
     "duration": 0.068813,
     "end_time": "2022-03-15T07:33:45.796577",
     "exception": false,
     "start_time": "2022-03-15T07:33:45.727764",
     "status": "completed"
    },
    "tags": []
   },
   "outputs": [
    {
     "name": "stdout",
     "output_type": "stream",
     "text": [
      "             LotArea    YearBuilt     1stFlrSF     2ndFlrSF     FullBath  \\\n",
      "count    1460.000000  1460.000000  1460.000000  1460.000000  1460.000000   \n",
      "mean    10516.828082  1971.267808  1162.626712   346.992466     1.565068   \n",
      "std      9981.264932    30.202904   386.587738   436.528436     0.550916   \n",
      "min      1300.000000  1872.000000   334.000000     0.000000     0.000000   \n",
      "25%      7553.500000  1954.000000   882.000000     0.000000     1.000000   \n",
      "50%      9478.500000  1973.000000  1087.000000     0.000000     2.000000   \n",
      "75%     11601.500000  2000.000000  1391.250000   728.000000     2.000000   \n",
      "max    215245.000000  2010.000000  4692.000000  2065.000000     3.000000   \n",
      "\n",
      "       BedroomAbvGr  TotRmsAbvGrd  \n",
      "count   1460.000000   1460.000000  \n",
      "mean       2.866438      6.517808  \n",
      "std        0.815778      1.625393  \n",
      "min        0.000000      2.000000  \n",
      "25%        2.000000      5.000000  \n",
      "50%        3.000000      6.000000  \n",
      "75%        3.000000      7.000000  \n",
      "max        8.000000     14.000000  \n",
      "   LotArea  YearBuilt  1stFlrSF  2ndFlrSF  FullBath  BedroomAbvGr  \\\n",
      "0     8450       2003       856       854         2             3   \n",
      "1     9600       1976      1262         0         2             3   \n",
      "2    11250       2001       920       866         2             3   \n",
      "3     9550       1915       961       756         1             3   \n",
      "4    14260       2000      1145      1053         2             4   \n",
      "\n",
      "   TotRmsAbvGrd  \n",
      "0             8  \n",
      "1             6  \n",
      "2             6  \n",
      "3             7  \n",
      "4             9  \n"
     ]
    }
   ],
   "source": [
    "# Review data\n",
    "# print description or statistics from X\n",
    "print(X.describe())\n",
    "\n",
    "# print the top few lines\n",
    "print(X.head())"
   ]
  },
  {
   "cell_type": "markdown",
   "id": "a32e0d30",
   "metadata": {
    "papermill": {
     "duration": 0.026666,
     "end_time": "2022-03-15T07:33:45.850978",
     "exception": false,
     "start_time": "2022-03-15T07:33:45.824312",
     "status": "completed"
    },
    "tags": []
   },
   "source": [
    "## Step 3: Specify and Fit Model\n",
    "Create a `DecisionTreeRegressor` and save it iowa_model. Ensure you've done the relevant import from sklearn to run this command.\n",
    "\n",
    "Then fit the model you just created using the data in `X` and `y` that you saved above."
   ]
  },
  {
   "cell_type": "code",
   "execution_count": 8,
   "id": "a276aea9",
   "metadata": {
    "execution": {
     "iopub.execute_input": "2022-03-15T07:33:45.908324Z",
     "iopub.status.busy": "2022-03-15T07:33:45.907674Z",
     "iopub.status.idle": "2022-03-15T07:33:45.925281Z",
     "shell.execute_reply": "2022-03-15T07:33:45.925855Z",
     "shell.execute_reply.started": "2022-03-15T07:17:41.925865Z"
    },
    "papermill": {
     "duration": 0.048037,
     "end_time": "2022-03-15T07:33:45.926052",
     "exception": false,
     "start_time": "2022-03-15T07:33:45.878015",
     "status": "completed"
    },
    "tags": []
   },
   "outputs": [
    {
     "data": {
      "application/javascript": [
       "parent.postMessage({\"jupyterEvent\": \"custom.exercise_interaction\", \"data\": {\"outcomeType\": 1, \"valueTowardsCompletion\": 0.25, \"interactionType\": 1, \"questionType\": 2, \"questionId\": \"3_CreateModel\", \"learnToolsVersion\": \"0.3.4\", \"failureMessage\": \"\", \"exceptionClass\": \"\", \"trace\": \"\"}}, \"*\")"
      ],
      "text/plain": [
       "<IPython.core.display.Javascript object>"
      ]
     },
     "metadata": {},
     "output_type": "display_data"
    },
    {
     "data": {
      "text/markdown": [
       "<span style=\"color:#33cc33\">Correct</span>"
      ],
      "text/plain": [
       "Correct"
      ]
     },
     "metadata": {},
     "output_type": "display_data"
    }
   ],
   "source": [
    "from sklearn.tree import DecisionTreeRegressor\n",
    "#specify the model. \n",
    "#For model reproducibility, set a numeric value for random_state when specifying the model\n",
    "iowa_model = DecisionTreeRegressor(random_state=1)\n",
    "\n",
    "# Fit the model\n",
    "iowa_model.fit(X,y)\n",
    "\n",
    "# Check your answer\n",
    "step_3.check()"
   ]
  },
  {
   "cell_type": "code",
   "execution_count": 9,
   "id": "ac695442",
   "metadata": {
    "execution": {
     "iopub.execute_input": "2022-03-15T07:33:45.985878Z",
     "iopub.status.busy": "2022-03-15T07:33:45.985207Z",
     "iopub.status.idle": "2022-03-15T07:33:45.988565Z",
     "shell.execute_reply": "2022-03-15T07:33:45.989185Z",
     "shell.execute_reply.started": "2022-03-15T07:17:41.942087Z"
    },
    "papermill": {
     "duration": 0.034749,
     "end_time": "2022-03-15T07:33:45.989362",
     "exception": false,
     "start_time": "2022-03-15T07:33:45.954613",
     "status": "completed"
    },
    "tags": []
   },
   "outputs": [],
   "source": [
    "# step_3.hint()\n",
    "# step_3.solution()"
   ]
  },
  {
   "cell_type": "markdown",
   "id": "f6ad25ac",
   "metadata": {
    "papermill": {
     "duration": 0.027796,
     "end_time": "2022-03-15T07:33:46.045238",
     "exception": false,
     "start_time": "2022-03-15T07:33:46.017442",
     "status": "completed"
    },
    "tags": []
   },
   "source": [
    "## Step 4: Make Predictions\n",
    "Make predictions with the model's `predict` command using `X` as the data. Save the results to a variable called `predictions`."
   ]
  },
  {
   "cell_type": "code",
   "execution_count": 10,
   "id": "dc795ad3",
   "metadata": {
    "execution": {
     "iopub.execute_input": "2022-03-15T07:33:46.104215Z",
     "iopub.status.busy": "2022-03-15T07:33:46.103599Z",
     "iopub.status.idle": "2022-03-15T07:33:46.118060Z",
     "shell.execute_reply": "2022-03-15T07:33:46.118600Z",
     "shell.execute_reply.started": "2022-03-15T07:17:41.946795Z"
    },
    "papermill": {
     "duration": 0.046074,
     "end_time": "2022-03-15T07:33:46.118776",
     "exception": false,
     "start_time": "2022-03-15T07:33:46.072702",
     "status": "completed"
    },
    "tags": []
   },
   "outputs": [
    {
     "name": "stdout",
     "output_type": "stream",
     "text": [
      "[208500. 181500. 223500. ... 266500. 142125. 147500.]\n"
     ]
    },
    {
     "data": {
      "application/javascript": [
       "parent.postMessage({\"jupyterEvent\": \"custom.exercise_interaction\", \"data\": {\"outcomeType\": 1, \"valueTowardsCompletion\": 0.25, \"interactionType\": 1, \"questionType\": 2, \"questionId\": \"4_MakePredictions\", \"learnToolsVersion\": \"0.3.4\", \"failureMessage\": \"\", \"exceptionClass\": \"\", \"trace\": \"\"}}, \"*\")"
      ],
      "text/plain": [
       "<IPython.core.display.Javascript object>"
      ]
     },
     "metadata": {},
     "output_type": "display_data"
    },
    {
     "data": {
      "text/markdown": [
       "<span style=\"color:#33cc33\">Correct</span>"
      ],
      "text/plain": [
       "Correct"
      ]
     },
     "metadata": {},
     "output_type": "display_data"
    }
   ],
   "source": [
    "predictions = iowa_model.predict(X)\n",
    "print(predictions)\n",
    "\n",
    "# Check your answer\n",
    "step_4.check()"
   ]
  },
  {
   "cell_type": "code",
   "execution_count": 11,
   "id": "1137401a",
   "metadata": {
    "execution": {
     "iopub.execute_input": "2022-03-15T07:33:46.181192Z",
     "iopub.status.busy": "2022-03-15T07:33:46.180542Z",
     "iopub.status.idle": "2022-03-15T07:33:46.186196Z",
     "shell.execute_reply": "2022-03-15T07:33:46.186676Z",
     "shell.execute_reply.started": "2022-03-15T07:17:41.962992Z"
    },
    "papermill": {
     "duration": 0.038697,
     "end_time": "2022-03-15T07:33:46.186879",
     "exception": false,
     "start_time": "2022-03-15T07:33:46.148182",
     "status": "completed"
    },
    "tags": []
   },
   "outputs": [
    {
     "data": {
      "application/javascript": [
       "parent.postMessage({\"jupyterEvent\": \"custom.exercise_interaction\", \"data\": {\"interactionType\": 3, \"questionType\": 2, \"questionId\": \"4_MakePredictions\", \"learnToolsVersion\": \"0.3.4\", \"valueTowardsCompletion\": 0.0, \"failureMessage\": \"\", \"exceptionClass\": \"\", \"trace\": \"\", \"outcomeType\": 4}}, \"*\")"
      ],
      "text/plain": [
       "<IPython.core.display.Javascript object>"
      ]
     },
     "metadata": {},
     "output_type": "display_data"
    },
    {
     "data": {
      "text/markdown": [
       "<span style=\"color:#33cc99\">Solution:</span> \n",
       "```python\n",
       "iowa_model.predict(X)\n",
       "```"
      ],
      "text/plain": [
       "Solution: \n",
       "```python\n",
       "iowa_model.predict(X)\n",
       "```"
      ]
     },
     "metadata": {},
     "output_type": "display_data"
    }
   ],
   "source": [
    "# step_4.hint()\n",
    "step_4.solution()"
   ]
  },
  {
   "cell_type": "markdown",
   "id": "9f6e6bd6",
   "metadata": {
    "papermill": {
     "duration": 0.03036,
     "end_time": "2022-03-15T07:33:46.247964",
     "exception": false,
     "start_time": "2022-03-15T07:33:46.217604",
     "status": "completed"
    },
    "tags": []
   },
   "source": [
    "## Think About Your Results\n",
    "\n",
    "Use the `head` method to compare the top few predictions to the actual home values (in `y`) for those same homes. Anything surprising?\n"
   ]
  },
  {
   "cell_type": "code",
   "execution_count": 12,
   "id": "4a829ebc",
   "metadata": {
    "execution": {
     "iopub.execute_input": "2022-03-15T07:33:46.322219Z",
     "iopub.status.busy": "2022-03-15T07:33:46.321106Z",
     "iopub.status.idle": "2022-03-15T07:33:46.325830Z",
     "shell.execute_reply": "2022-03-15T07:33:46.325125Z",
     "shell.execute_reply.started": "2022-03-15T07:25:52.445328Z"
    },
    "papermill": {
     "duration": 0.047697,
     "end_time": "2022-03-15T07:33:46.326022",
     "exception": false,
     "start_time": "2022-03-15T07:33:46.278325",
     "status": "completed"
    },
    "tags": []
   },
   "outputs": [
    {
     "name": "stdout",
     "output_type": "stream",
     "text": [
      "Making predictions for the following 5 houses:\n",
      "   LotArea  YearBuilt  1stFlrSF  2ndFlrSF  FullBath  BedroomAbvGr  \\\n",
      "0     8450       2003       856       854         2             3   \n",
      "1     9600       1976      1262         0         2             3   \n",
      "2    11250       2001       920       866         2             3   \n",
      "3     9550       1915       961       756         1             3   \n",
      "4    14260       2000      1145      1053         2             4   \n",
      "\n",
      "   TotRmsAbvGrd  \n",
      "0             8  \n",
      "1             6  \n",
      "2             6  \n",
      "3             7  \n",
      "4             9  \n",
      "The predictions are\n",
      "[208500. 181500. 223500. 140000. 250000.]\n"
     ]
    }
   ],
   "source": [
    "print(\"Making predictions for the following 5 houses:\")\n",
    "print(X.head())\n",
    "print(\"The predictions are\")\n",
    "print(iowa_model.predict(X.head()))\n"
   ]
  },
  {
   "cell_type": "markdown",
   "id": "703386a3",
   "metadata": {
    "papermill": {
     "duration": 0.030765,
     "end_time": "2022-03-15T07:33:46.389136",
     "exception": false,
     "start_time": "2022-03-15T07:33:46.358371",
     "status": "completed"
    },
    "tags": []
   },
   "source": [
    "It's natural to ask how accurate the model's predictions will be and how you can improve that. That will be you're next step.\n",
    "\n",
    "# Keep Going\n",
    "\n",
    "You are ready for **[Model Validation](https://www.kaggle.com/dansbecker/model-validation).**\n"
   ]
  },
  {
   "cell_type": "markdown",
   "id": "00ff171c",
   "metadata": {
    "papermill": {
     "duration": 0.030443,
     "end_time": "2022-03-15T07:33:46.450584",
     "exception": false,
     "start_time": "2022-03-15T07:33:46.420141",
     "status": "completed"
    },
    "tags": []
   },
   "source": [
    "---\n",
    "\n",
    "\n",
    "\n",
    "\n",
    "*Have questions or comments? Visit the [Learn Discussion forum](https://www.kaggle.com/learn-forum/161285) to chat with other Learners.*"
   ]
  }
 ],
 "metadata": {
  "kernelspec": {
   "display_name": "Python 3",
   "language": "python",
   "name": "python3"
  },
  "language_info": {
   "codemirror_mode": {
    "name": "ipython",
    "version": 3
   },
   "file_extension": ".py",
   "mimetype": "text/x-python",
   "name": "python",
   "nbconvert_exporter": "python",
   "pygments_lexer": "ipython3",
   "version": "3.7.12"
  },
  "papermill": {
   "default_parameters": {},
   "duration": 14.243273,
   "end_time": "2022-03-15T07:33:47.393975",
   "environment_variables": {},
   "exception": null,
   "input_path": "__notebook__.ipynb",
   "output_path": "__notebook__.ipynb",
   "parameters": {},
   "start_time": "2022-03-15T07:33:33.150702",
   "version": "2.3.3"
  }
 },
 "nbformat": 4,
 "nbformat_minor": 5
}

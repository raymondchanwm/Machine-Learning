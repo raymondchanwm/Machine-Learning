{
 "cells": [
  {
   "cell_type": "code",
   "execution_count": 1,
   "id": "481a1965",
   "metadata": {
    "_cell_guid": "b1076dfc-b9ad-4769-8c92-a6c4dae69d19",
    "_uuid": "8f2839f25d086af736a60e9eeb907d3b93b6e0e5",
    "execution": {
     "iopub.execute_input": "2022-05-10T14:42:29.919510Z",
     "iopub.status.busy": "2022-05-10T14:42:29.919088Z",
     "iopub.status.idle": "2022-05-10T14:42:29.937595Z",
     "shell.execute_reply": "2022-05-10T14:42:29.936073Z"
    },
    "papermill": {
     "duration": 0.045343,
     "end_time": "2022-05-10T14:42:29.940721",
     "exception": false,
     "start_time": "2022-05-10T14:42:29.895378",
     "status": "completed"
    },
    "tags": []
   },
   "outputs": [
    {
     "name": "stdout",
     "output_type": "stream",
     "text": [
      "/kaggle/input/digit-recognizer/sample_submission.csv\n",
      "/kaggle/input/digit-recognizer/train.csv\n",
      "/kaggle/input/digit-recognizer/test.csv\n"
     ]
    }
   ],
   "source": [
    "# This Python 3 environment comes with many helpful analytics libraries installed\n",
    "# It is defined by the kaggle/python Docker image: https://github.com/kaggle/docker-python\n",
    "# For example, here's several helpful packages to load\n",
    "\n",
    "import numpy as np # linear algebra\n",
    "import pandas as pd # data processing, CSV file I/O (e.g. pd.read_csv)\n",
    "\n",
    "# Input data files are available in the read-only \"../input/\" directory\n",
    "# For example, running this (by clicking run or pressing Shift+Enter) will list all files under the input directory\n",
    "\n",
    "import os\n",
    "for dirname, _, filenames in os.walk('/kaggle/input'):\n",
    "    for filename in filenames:\n",
    "        print(os.path.join(dirname, filename))\n",
    "\n",
    "# You can write up to 20GB to the current directory (/kaggle/working/) that gets preserved as output when you create a version using \"Save & Run All\" \n",
    "# You can also write temporary files to /kaggle/temp/, but they won't be saved outside of the current session"
   ]
  },
  {
   "cell_type": "code",
   "execution_count": 2,
   "id": "06cebfb5",
   "metadata": {
    "execution": {
     "iopub.execute_input": "2022-05-10T14:42:29.988610Z",
     "iopub.status.busy": "2022-05-10T14:42:29.988370Z",
     "iopub.status.idle": "2022-05-10T14:42:33.303226Z",
     "shell.execute_reply": "2022-05-10T14:42:33.302453Z"
    },
    "papermill": {
     "duration": 3.341234,
     "end_time": "2022-05-10T14:42:33.305212",
     "exception": false,
     "start_time": "2022-05-10T14:42:29.963978",
     "status": "completed"
    },
    "tags": []
   },
   "outputs": [
    {
     "data": {
      "text/html": [
       "<div>\n",
       "<style scoped>\n",
       "    .dataframe tbody tr th:only-of-type {\n",
       "        vertical-align: middle;\n",
       "    }\n",
       "\n",
       "    .dataframe tbody tr th {\n",
       "        vertical-align: top;\n",
       "    }\n",
       "\n",
       "    .dataframe thead th {\n",
       "        text-align: right;\n",
       "    }\n",
       "</style>\n",
       "<table border=\"1\" class=\"dataframe\">\n",
       "  <thead>\n",
       "    <tr style=\"text-align: right;\">\n",
       "      <th></th>\n",
       "      <th>label</th>\n",
       "      <th>pixel0</th>\n",
       "      <th>pixel1</th>\n",
       "      <th>pixel2</th>\n",
       "      <th>pixel3</th>\n",
       "      <th>pixel4</th>\n",
       "      <th>pixel5</th>\n",
       "      <th>pixel6</th>\n",
       "      <th>pixel7</th>\n",
       "      <th>pixel8</th>\n",
       "      <th>...</th>\n",
       "      <th>pixel774</th>\n",
       "      <th>pixel775</th>\n",
       "      <th>pixel776</th>\n",
       "      <th>pixel777</th>\n",
       "      <th>pixel778</th>\n",
       "      <th>pixel779</th>\n",
       "      <th>pixel780</th>\n",
       "      <th>pixel781</th>\n",
       "      <th>pixel782</th>\n",
       "      <th>pixel783</th>\n",
       "    </tr>\n",
       "  </thead>\n",
       "  <tbody>\n",
       "    <tr>\n",
       "      <th>0</th>\n",
       "      <td>1</td>\n",
       "      <td>0</td>\n",
       "      <td>0</td>\n",
       "      <td>0</td>\n",
       "      <td>0</td>\n",
       "      <td>0</td>\n",
       "      <td>0</td>\n",
       "      <td>0</td>\n",
       "      <td>0</td>\n",
       "      <td>0</td>\n",
       "      <td>...</td>\n",
       "      <td>0</td>\n",
       "      <td>0</td>\n",
       "      <td>0</td>\n",
       "      <td>0</td>\n",
       "      <td>0</td>\n",
       "      <td>0</td>\n",
       "      <td>0</td>\n",
       "      <td>0</td>\n",
       "      <td>0</td>\n",
       "      <td>0</td>\n",
       "    </tr>\n",
       "    <tr>\n",
       "      <th>1</th>\n",
       "      <td>0</td>\n",
       "      <td>0</td>\n",
       "      <td>0</td>\n",
       "      <td>0</td>\n",
       "      <td>0</td>\n",
       "      <td>0</td>\n",
       "      <td>0</td>\n",
       "      <td>0</td>\n",
       "      <td>0</td>\n",
       "      <td>0</td>\n",
       "      <td>...</td>\n",
       "      <td>0</td>\n",
       "      <td>0</td>\n",
       "      <td>0</td>\n",
       "      <td>0</td>\n",
       "      <td>0</td>\n",
       "      <td>0</td>\n",
       "      <td>0</td>\n",
       "      <td>0</td>\n",
       "      <td>0</td>\n",
       "      <td>0</td>\n",
       "    </tr>\n",
       "    <tr>\n",
       "      <th>2</th>\n",
       "      <td>1</td>\n",
       "      <td>0</td>\n",
       "      <td>0</td>\n",
       "      <td>0</td>\n",
       "      <td>0</td>\n",
       "      <td>0</td>\n",
       "      <td>0</td>\n",
       "      <td>0</td>\n",
       "      <td>0</td>\n",
       "      <td>0</td>\n",
       "      <td>...</td>\n",
       "      <td>0</td>\n",
       "      <td>0</td>\n",
       "      <td>0</td>\n",
       "      <td>0</td>\n",
       "      <td>0</td>\n",
       "      <td>0</td>\n",
       "      <td>0</td>\n",
       "      <td>0</td>\n",
       "      <td>0</td>\n",
       "      <td>0</td>\n",
       "    </tr>\n",
       "    <tr>\n",
       "      <th>3</th>\n",
       "      <td>4</td>\n",
       "      <td>0</td>\n",
       "      <td>0</td>\n",
       "      <td>0</td>\n",
       "      <td>0</td>\n",
       "      <td>0</td>\n",
       "      <td>0</td>\n",
       "      <td>0</td>\n",
       "      <td>0</td>\n",
       "      <td>0</td>\n",
       "      <td>...</td>\n",
       "      <td>0</td>\n",
       "      <td>0</td>\n",
       "      <td>0</td>\n",
       "      <td>0</td>\n",
       "      <td>0</td>\n",
       "      <td>0</td>\n",
       "      <td>0</td>\n",
       "      <td>0</td>\n",
       "      <td>0</td>\n",
       "      <td>0</td>\n",
       "    </tr>\n",
       "    <tr>\n",
       "      <th>4</th>\n",
       "      <td>0</td>\n",
       "      <td>0</td>\n",
       "      <td>0</td>\n",
       "      <td>0</td>\n",
       "      <td>0</td>\n",
       "      <td>0</td>\n",
       "      <td>0</td>\n",
       "      <td>0</td>\n",
       "      <td>0</td>\n",
       "      <td>0</td>\n",
       "      <td>...</td>\n",
       "      <td>0</td>\n",
       "      <td>0</td>\n",
       "      <td>0</td>\n",
       "      <td>0</td>\n",
       "      <td>0</td>\n",
       "      <td>0</td>\n",
       "      <td>0</td>\n",
       "      <td>0</td>\n",
       "      <td>0</td>\n",
       "      <td>0</td>\n",
       "    </tr>\n",
       "    <tr>\n",
       "      <th>...</th>\n",
       "      <td>...</td>\n",
       "      <td>...</td>\n",
       "      <td>...</td>\n",
       "      <td>...</td>\n",
       "      <td>...</td>\n",
       "      <td>...</td>\n",
       "      <td>...</td>\n",
       "      <td>...</td>\n",
       "      <td>...</td>\n",
       "      <td>...</td>\n",
       "      <td>...</td>\n",
       "      <td>...</td>\n",
       "      <td>...</td>\n",
       "      <td>...</td>\n",
       "      <td>...</td>\n",
       "      <td>...</td>\n",
       "      <td>...</td>\n",
       "      <td>...</td>\n",
       "      <td>...</td>\n",
       "      <td>...</td>\n",
       "      <td>...</td>\n",
       "    </tr>\n",
       "    <tr>\n",
       "      <th>41995</th>\n",
       "      <td>0</td>\n",
       "      <td>0</td>\n",
       "      <td>0</td>\n",
       "      <td>0</td>\n",
       "      <td>0</td>\n",
       "      <td>0</td>\n",
       "      <td>0</td>\n",
       "      <td>0</td>\n",
       "      <td>0</td>\n",
       "      <td>0</td>\n",
       "      <td>...</td>\n",
       "      <td>0</td>\n",
       "      <td>0</td>\n",
       "      <td>0</td>\n",
       "      <td>0</td>\n",
       "      <td>0</td>\n",
       "      <td>0</td>\n",
       "      <td>0</td>\n",
       "      <td>0</td>\n",
       "      <td>0</td>\n",
       "      <td>0</td>\n",
       "    </tr>\n",
       "    <tr>\n",
       "      <th>41996</th>\n",
       "      <td>1</td>\n",
       "      <td>0</td>\n",
       "      <td>0</td>\n",
       "      <td>0</td>\n",
       "      <td>0</td>\n",
       "      <td>0</td>\n",
       "      <td>0</td>\n",
       "      <td>0</td>\n",
       "      <td>0</td>\n",
       "      <td>0</td>\n",
       "      <td>...</td>\n",
       "      <td>0</td>\n",
       "      <td>0</td>\n",
       "      <td>0</td>\n",
       "      <td>0</td>\n",
       "      <td>0</td>\n",
       "      <td>0</td>\n",
       "      <td>0</td>\n",
       "      <td>0</td>\n",
       "      <td>0</td>\n",
       "      <td>0</td>\n",
       "    </tr>\n",
       "    <tr>\n",
       "      <th>41997</th>\n",
       "      <td>7</td>\n",
       "      <td>0</td>\n",
       "      <td>0</td>\n",
       "      <td>0</td>\n",
       "      <td>0</td>\n",
       "      <td>0</td>\n",
       "      <td>0</td>\n",
       "      <td>0</td>\n",
       "      <td>0</td>\n",
       "      <td>0</td>\n",
       "      <td>...</td>\n",
       "      <td>0</td>\n",
       "      <td>0</td>\n",
       "      <td>0</td>\n",
       "      <td>0</td>\n",
       "      <td>0</td>\n",
       "      <td>0</td>\n",
       "      <td>0</td>\n",
       "      <td>0</td>\n",
       "      <td>0</td>\n",
       "      <td>0</td>\n",
       "    </tr>\n",
       "    <tr>\n",
       "      <th>41998</th>\n",
       "      <td>6</td>\n",
       "      <td>0</td>\n",
       "      <td>0</td>\n",
       "      <td>0</td>\n",
       "      <td>0</td>\n",
       "      <td>0</td>\n",
       "      <td>0</td>\n",
       "      <td>0</td>\n",
       "      <td>0</td>\n",
       "      <td>0</td>\n",
       "      <td>...</td>\n",
       "      <td>0</td>\n",
       "      <td>0</td>\n",
       "      <td>0</td>\n",
       "      <td>0</td>\n",
       "      <td>0</td>\n",
       "      <td>0</td>\n",
       "      <td>0</td>\n",
       "      <td>0</td>\n",
       "      <td>0</td>\n",
       "      <td>0</td>\n",
       "    </tr>\n",
       "    <tr>\n",
       "      <th>41999</th>\n",
       "      <td>9</td>\n",
       "      <td>0</td>\n",
       "      <td>0</td>\n",
       "      <td>0</td>\n",
       "      <td>0</td>\n",
       "      <td>0</td>\n",
       "      <td>0</td>\n",
       "      <td>0</td>\n",
       "      <td>0</td>\n",
       "      <td>0</td>\n",
       "      <td>...</td>\n",
       "      <td>0</td>\n",
       "      <td>0</td>\n",
       "      <td>0</td>\n",
       "      <td>0</td>\n",
       "      <td>0</td>\n",
       "      <td>0</td>\n",
       "      <td>0</td>\n",
       "      <td>0</td>\n",
       "      <td>0</td>\n",
       "      <td>0</td>\n",
       "    </tr>\n",
       "  </tbody>\n",
       "</table>\n",
       "<p>42000 rows × 785 columns</p>\n",
       "</div>"
      ],
      "text/plain": [
       "       label  pixel0  pixel1  pixel2  pixel3  pixel4  pixel5  pixel6  pixel7  \\\n",
       "0          1       0       0       0       0       0       0       0       0   \n",
       "1          0       0       0       0       0       0       0       0       0   \n",
       "2          1       0       0       0       0       0       0       0       0   \n",
       "3          4       0       0       0       0       0       0       0       0   \n",
       "4          0       0       0       0       0       0       0       0       0   \n",
       "...      ...     ...     ...     ...     ...     ...     ...     ...     ...   \n",
       "41995      0       0       0       0       0       0       0       0       0   \n",
       "41996      1       0       0       0       0       0       0       0       0   \n",
       "41997      7       0       0       0       0       0       0       0       0   \n",
       "41998      6       0       0       0       0       0       0       0       0   \n",
       "41999      9       0       0       0       0       0       0       0       0   \n",
       "\n",
       "       pixel8  ...  pixel774  pixel775  pixel776  pixel777  pixel778  \\\n",
       "0           0  ...         0         0         0         0         0   \n",
       "1           0  ...         0         0         0         0         0   \n",
       "2           0  ...         0         0         0         0         0   \n",
       "3           0  ...         0         0         0         0         0   \n",
       "4           0  ...         0         0         0         0         0   \n",
       "...       ...  ...       ...       ...       ...       ...       ...   \n",
       "41995       0  ...         0         0         0         0         0   \n",
       "41996       0  ...         0         0         0         0         0   \n",
       "41997       0  ...         0         0         0         0         0   \n",
       "41998       0  ...         0         0         0         0         0   \n",
       "41999       0  ...         0         0         0         0         0   \n",
       "\n",
       "       pixel779  pixel780  pixel781  pixel782  pixel783  \n",
       "0             0         0         0         0         0  \n",
       "1             0         0         0         0         0  \n",
       "2             0         0         0         0         0  \n",
       "3             0         0         0         0         0  \n",
       "4             0         0         0         0         0  \n",
       "...         ...       ...       ...       ...       ...  \n",
       "41995         0         0         0         0         0  \n",
       "41996         0         0         0         0         0  \n",
       "41997         0         0         0         0         0  \n",
       "41998         0         0         0         0         0  \n",
       "41999         0         0         0         0         0  \n",
       "\n",
       "[42000 rows x 785 columns]"
      ]
     },
     "execution_count": 2,
     "metadata": {},
     "output_type": "execute_result"
    }
   ],
   "source": [
    "#read train.csv into pd.dataframe\n",
    "train = pd.read_csv(\"../input/digit-recognizer/train.csv\")\n",
    "train"
   ]
  },
  {
   "cell_type": "code",
   "execution_count": 3,
   "id": "119c47a8",
   "metadata": {
    "execution": {
     "iopub.execute_input": "2022-05-10T14:42:33.336375Z",
     "iopub.status.busy": "2022-05-10T14:42:33.335869Z",
     "iopub.status.idle": "2022-05-10T14:42:42.660729Z",
     "shell.execute_reply": "2022-05-10T14:42:42.659566Z"
    },
    "papermill": {
     "duration": 9.342993,
     "end_time": "2022-05-10T14:42:42.663094",
     "exception": false,
     "start_time": "2022-05-10T14:42:33.320101",
     "status": "completed"
    },
    "tags": []
   },
   "outputs": [
    {
     "name": "stdout",
     "output_type": "stream",
     "text": [
      "(31500, 784)\n",
      "(10500, 784)\n",
      "(31500, 10)\n",
      "(10500, 10)\n"
     ]
    }
   ],
   "source": [
    "from tensorflow.keras.utils import to_categorical\n",
    "from sklearn.model_selection import KFold\n",
    "\n",
    "#extract images from train into dataframe\n",
    "x_train = train.drop([\"label\"],axis = 1) #drop: remove column/ row\n",
    "y_train = train[\"label\"]\n",
    "\n",
    "#read testing data\n",
    "x_test = pd.read_csv(\"../input/digit-recognizer/test.csv\")\n",
    "\n",
    "#folding testing data\n",
    "kf = KFold(n_splits = 4, \n",
    "           shuffle = True,\n",
    "          random_state = 123)\n",
    "#get training and validating index\n",
    "train_index, test_index = list(kf.split(x_train))[0]\n",
    "\n",
    "#get training images and validating images and correct ans\n",
    "tr_x, va_x = x_train.iloc[train_index], x_train.iloc[test_index]\n",
    "tr_y, va_y = y_train.iloc[train_index], y_train.iloc[test_index]\n",
    "\n",
    "#divided by 255\n",
    "tr_x, va_x = np.array(tr_x/255.0), np.array(va_x/255.0)\n",
    "\n",
    "#one hot encoding\n",
    "tr_y = to_categorical(tr_y, 10) #np.ndarray object\n",
    "va_y = to_categorical(va_y, 10) #np.ndarray object\n",
    "\n",
    "#output\n",
    "print(tr_x.shape)\n",
    "print(va_x.shape)\n",
    "print(tr_y.shape)\n",
    "print(va_y.shape)"
   ]
  },
  {
   "cell_type": "code",
   "execution_count": 4,
   "id": "de8a4059",
   "metadata": {
    "execution": {
     "iopub.execute_input": "2022-05-10T14:42:42.695294Z",
     "iopub.status.busy": "2022-05-10T14:42:42.695029Z",
     "iopub.status.idle": "2022-05-10T14:42:42.707433Z",
     "shell.execute_reply": "2022-05-10T14:42:42.706423Z"
    },
    "papermill": {
     "duration": 0.031131,
     "end_time": "2022-05-10T14:42:42.709555",
     "exception": false,
     "start_time": "2022-05-10T14:42:42.678424",
     "status": "completed"
    },
    "tags": []
   },
   "outputs": [
    {
     "data": {
      "text/plain": [
       "Counter({1: 4684,\n",
       "         0: 4132,\n",
       "         4: 4072,\n",
       "         7: 4401,\n",
       "         3: 4351,\n",
       "         5: 3795,\n",
       "         8: 4063,\n",
       "         9: 4188,\n",
       "         2: 4177,\n",
       "         6: 4137})"
      ]
     },
     "execution_count": 4,
     "metadata": {},
     "output_type": "execute_result"
    }
   ],
   "source": [
    "#count number of images\n",
    "from collections import Counter\n",
    "count = Counter(train[\"label\"])\n",
    "count"
   ]
  },
  {
   "cell_type": "code",
   "execution_count": 5,
   "id": "9c6b6de2",
   "metadata": {
    "execution": {
     "iopub.execute_input": "2022-05-10T14:42:42.742672Z",
     "iopub.status.busy": "2022-05-10T14:42:42.741898Z",
     "iopub.status.idle": "2022-05-10T14:42:43.136989Z",
     "shell.execute_reply": "2022-05-10T14:42:43.136075Z"
    },
    "papermill": {
     "duration": 0.413395,
     "end_time": "2022-05-10T14:42:43.138702",
     "exception": false,
     "start_time": "2022-05-10T14:42:42.725307",
     "status": "completed"
    },
    "tags": []
   },
   "outputs": [
    {
     "name": "stderr",
     "output_type": "stream",
     "text": [
      "/opt/conda/lib/python3.7/site-packages/seaborn/_decorators.py:43: FutureWarning: Pass the following variable as a keyword arg: x. From version 0.12, the only valid positional argument will be `data`, and passing other arguments without an explicit keyword will result in an error or misinterpretation.\n",
      "  FutureWarning\n"
     ]
    },
    {
     "data": {
      "text/plain": [
       "<AxesSubplot:xlabel='label', ylabel='count'>"
      ]
     },
     "execution_count": 5,
     "metadata": {},
     "output_type": "execute_result"
    },
    {
     "data": {
      "image/png": "[encoded data removed]",
      "text/plain": [
       "<Figure size 432x288 with 1 Axes>"
      ]
     },
     "metadata": {
      "needs_background": "light"
     },
     "output_type": "display_data"
    }
   ],
   "source": [
    "import seaborn as sns\n",
    "sns.countplot(train[\"label\"])"
   ]
  },
  {
   "cell_type": "code",
   "execution_count": 6,
   "id": "96e745c6",
   "metadata": {
    "execution": {
     "iopub.execute_input": "2022-05-10T14:42:43.174697Z",
     "iopub.status.busy": "2022-05-10T14:42:43.173861Z",
     "iopub.status.idle": "2022-05-10T14:42:43.188934Z",
     "shell.execute_reply": "2022-05-10T14:42:43.187619Z"
    },
    "papermill": {
     "duration": 0.035389,
     "end_time": "2022-05-10T14:42:43.191152",
     "exception": false,
     "start_time": "2022-05-10T14:42:43.155763",
     "status": "completed"
    },
    "tags": []
   },
   "outputs": [
    {
     "name": "stdout",
     "output_type": "stream",
     "text": [
      "[0.         0.         0.         0.         0.         0.\n",
      " 0.         0.         0.         0.         0.         0.\n",
      " 0.         0.         0.         0.         0.         0.\n",
      " 0.         0.         0.         0.         0.         0.\n",
      " 0.         0.         0.         0.         0.         0.\n",
      " 0.         0.         0.         0.         0.         0.\n",
      " 0.         0.         0.         0.         0.         0.\n",
      " 0.         0.         0.         0.         0.         0.\n",
      " 0.         0.         0.         0.         0.         0.\n",
      " 0.         0.         0.         0.         0.         0.\n",
      " 0.         0.         0.         0.         0.         0.\n",
      " 0.         0.         0.         0.         0.         0.\n",
      " 0.         0.         0.         0.         0.         0.\n",
      " 0.         0.         0.         0.         0.         0.\n",
      " 0.         0.         0.         0.         0.         0.\n",
      " 0.         0.         0.         0.         0.         0.\n",
      " 0.         0.         0.         0.         0.         0.\n",
      " 0.         0.         0.         0.         0.         0.\n",
      " 0.         0.         0.         0.         0.         0.\n",
      " 0.         0.         0.         0.         0.         0.\n",
      " 0.         0.         0.         0.         0.         0.\n",
      " 0.         0.         0.         0.         0.         0.\n",
      " 0.7372549  1.         0.36862745 0.         0.         0.\n",
      " 0.         0.         0.         0.         0.         0.\n",
      " 0.         0.         0.         0.         0.         0.\n",
      " 0.         0.         0.         0.         0.         0.\n",
      " 0.         0.         0.         0.74901961 0.98039216 0.99215686\n",
      " 0.36470588 0.         0.         0.         0.         0.\n",
      " 0.         0.         0.         0.         0.         0.\n",
      " 0.         0.         0.         0.         0.         0.\n",
      " 0.         0.         0.         0.         0.         0.\n",
      " 0.48235294 0.97254902 0.99215686 0.65490196 0.03921569 0.\n",
      " 0.         0.         0.         0.         0.         0.\n",
      " 0.         0.         0.         0.         0.         0.\n",
      " 0.         0.         0.         0.         0.         0.\n",
      " 0.         0.         0.         0.31372549 0.96862745 0.99215686\n",
      " 0.81568627 0.05098039 0.         0.         0.         0.\n",
      " 0.         0.         0.         0.         0.         0.\n",
      " 0.         0.         0.         0.         0.         0.\n",
      " 0.         0.         0.         0.         0.         0.\n",
      " 0.11372549 0.81176471 0.99215686 0.92156863 0.30196078 0.\n",
      " 0.         0.         0.         0.         0.         0.\n",
      " 0.         0.         0.         0.         0.         0.\n",
      " 0.         0.         0.         0.         0.         0.\n",
      " 0.         0.         0.         0.21176471 0.81960784 0.99215686\n",
      " 0.99215686 0.34509804 0.         0.         0.         0.\n",
      " 0.         0.         0.         0.         0.         0.\n",
      " 0.         0.         0.         0.         0.         0.\n",
      " 0.         0.         0.         0.         0.         0.\n",
      " 0.36470588 0.99607843 0.99215686 0.93333333 0.66666667 0.06666667\n",
      " 0.         0.         0.         0.         0.         0.\n",
      " 0.         0.         0.         0.         0.         0.\n",
      " 0.         0.         0.         0.         0.         0.\n",
      " 0.         0.         0.         0.09019608 0.82352941 0.99607843\n",
      " 0.99215686 0.62352941 0.         0.         0.         0.\n",
      " 0.         0.         0.         0.         0.         0.\n",
      " 0.         0.         0.         0.         0.         0.\n",
      " 0.         0.         0.         0.         0.         0.\n",
      " 0.0627451  0.81960784 0.99215686 0.99607843 0.94117647 0.31764706\n",
      " 0.         0.         0.         0.         0.         0.\n",
      " 0.         0.         0.         0.         0.         0.\n",
      " 0.         0.         0.         0.         0.         0.\n",
      " 0.         0.         0.         0.         0.10588235 0.99215686\n",
      " 0.99215686 0.99607843 0.05098039 0.         0.         0.\n",
      " 0.         0.         0.         0.         0.         0.\n",
      " 0.         0.         0.         0.         0.         0.\n",
      " 0.         0.         0.         0.         0.         0.\n",
      " 0.         0.07843137 0.80784314 0.99607843 0.99607843 0.77647059\n",
      " 0.02745098 0.         0.         0.         0.         0.\n",
      " 0.         0.         0.         0.         0.         0.\n",
      " 0.         0.         0.         0.         0.         0.\n",
      " 0.         0.         0.         0.         0.         0.65882353\n",
      " 0.99215686 0.99215686 0.76862745 0.02745098 0.         0.\n",
      " 0.         0.         0.         0.         0.         0.\n",
      " 0.         0.         0.         0.         0.         0.\n",
      " 0.         0.         0.         0.         0.         0.\n",
      " 0.         0.         0.07843137 0.79607843 0.99215686 0.97254902\n",
      " 0.29803922 0.         0.         0.         0.         0.\n",
      " 0.         0.         0.         0.         0.         0.\n",
      " 0.         0.         0.         0.         0.         0.\n",
      " 0.         0.         0.         0.         0.         0.08627451\n",
      " 0.7372549  0.99215686 0.96078431 0.36470588 0.         0.\n",
      " 0.         0.         0.         0.         0.         0.\n",
      " 0.         0.         0.         0.         0.         0.\n",
      " 0.         0.         0.         0.         0.         0.\n",
      " 0.         0.         0.         0.40392157 0.99215686 0.99215686\n",
      " 0.74901961 0.         0.         0.         0.         0.\n",
      " 0.         0.         0.         0.         0.         0.\n",
      " 0.         0.         0.         0.         0.         0.\n",
      " 0.         0.         0.         0.         0.         0.\n",
      " 0.34901961 0.94117647 0.99215686 0.76470588 0.09803922 0.\n",
      " 0.         0.         0.         0.         0.         0.\n",
      " 0.         0.         0.         0.         0.         0.\n",
      " 0.         0.         0.         0.         0.         0.\n",
      " 0.         0.         0.         0.05882353 0.8627451  0.99215686\n",
      " 0.99215686 0.31372549 0.         0.         0.         0.\n",
      " 0.         0.         0.         0.         0.         0.\n",
      " 0.         0.         0.         0.         0.         0.\n",
      " 0.         0.         0.         0.         0.         0.\n",
      " 0.         0.36862745 0.99215686 0.99215686 0.99215686 0.36862745\n",
      " 0.         0.         0.         0.         0.         0.\n",
      " 0.         0.         0.         0.         0.         0.\n",
      " 0.         0.         0.         0.         0.         0.\n",
      " 0.         0.         0.         0.         0.         0.34901961\n",
      " 0.98431373 0.99215686 0.98039216 0.51372549 0.         0.\n",
      " 0.         0.         0.         0.         0.         0.\n",
      " 0.         0.         0.         0.         0.         0.\n",
      " 0.         0.         0.         0.         0.         0.\n",
      " 0.         0.         0.         0.         0.83921569 0.85490196\n",
      " 0.37254902 0.         0.         0.         0.         0.\n",
      " 0.         0.         0.         0.         0.         0.\n",
      " 0.         0.         0.         0.         0.         0.\n",
      " 0.         0.         0.         0.         0.         0.\n",
      " 0.         0.         0.         0.         0.         0.\n",
      " 0.         0.         0.         0.         0.         0.\n",
      " 0.         0.         0.         0.         0.         0.\n",
      " 0.         0.         0.         0.         0.         0.\n",
      " 0.         0.         0.         0.         0.         0.\n",
      " 0.         0.         0.         0.         0.         0.\n",
      " 0.         0.         0.         0.         0.         0.\n",
      " 0.         0.         0.         0.         0.         0.\n",
      " 0.         0.         0.         0.         0.         0.\n",
      " 0.         0.         0.         0.         0.         0.\n",
      " 0.         0.         0.         0.         0.         0.\n",
      " 0.         0.         0.         0.         0.         0.\n",
      " 0.         0.         0.         0.         0.         0.\n",
      " 0.         0.         0.         0.         0.         0.\n",
      " 0.         0.         0.         0.         0.         0.\n",
      " 0.         0.         0.         0.         0.         0.\n",
      " 0.         0.         0.         0.         0.         0.\n",
      " 0.         0.         0.         0.        ]\n"
     ]
    }
   ],
   "source": [
    "print(tr_x[0])"
   ]
  },
  {
   "cell_type": "code",
   "execution_count": 7,
   "id": "d9041271",
   "metadata": {
    "execution": {
     "iopub.execute_input": "2022-05-10T14:42:43.226893Z",
     "iopub.status.busy": "2022-05-10T14:42:43.226127Z",
     "iopub.status.idle": "2022-05-10T14:42:46.544051Z",
     "shell.execute_reply": "2022-05-10T14:42:46.543259Z"
    },
    "papermill": {
     "duration": 3.337956,
     "end_time": "2022-05-10T14:42:46.546453",
     "exception": false,
     "start_time": "2022-05-10T14:42:43.208497",
     "status": "completed"
    },
    "tags": []
   },
   "outputs": [
    {
     "data": {
      "image/png": "[encoded data removed]",
      "text/plain": [
       "<Figure size 864x720 with 50 Axes>"
      ]
     },
     "metadata": {
      "needs_background": "light"
     },
     "output_type": "display_data"
    }
   ],
   "source": [
    "import matplotlib.pyplot as plt\n",
    "%matplotlib inline\n",
    "\n",
    "#take first 50 images\n",
    "plt.figure(figsize = (12, 10))\n",
    "x, y = 10, 5 #6 by 10 dimension\n",
    "\n",
    "for i in range(50):\n",
    "    plt.subplot(y, x, i+1)\n",
    "    plt.imshow(tr_x[i].reshape((28,28)), interpolation = \"nearest\")\n",
    "plt.show()"
   ]
  },
  {
   "cell_type": "code",
   "execution_count": 8,
   "id": "c26904f4",
   "metadata": {
    "execution": {
     "iopub.execute_input": "2022-05-10T14:42:46.606062Z",
     "iopub.status.busy": "2022-05-10T14:42:46.605778Z",
     "iopub.status.idle": "2022-05-10T14:42:46.609395Z",
     "shell.execute_reply": "2022-05-10T14:42:46.608637Z"
    },
    "papermill": {
     "duration": 0.035853,
     "end_time": "2022-05-10T14:42:46.611391",
     "exception": false,
     "start_time": "2022-05-10T14:42:46.575538",
     "status": "completed"
    },
    "tags": []
   },
   "outputs": [],
   "source": [
    "def sigmoid(x):\n",
    "    return  1/(1+np.exp(-x))"
   ]
  },
  {
   "cell_type": "code",
   "execution_count": 9,
   "id": "45ea75d6",
   "metadata": {
    "execution": {
     "iopub.execute_input": "2022-05-10T14:42:46.670378Z",
     "iopub.status.busy": "2022-05-10T14:42:46.670038Z",
     "iopub.status.idle": "2022-05-10T14:42:46.795962Z",
     "shell.execute_reply": "2022-05-10T14:42:46.795222Z"
    },
    "papermill": {
     "duration": 0.158596,
     "end_time": "2022-05-10T14:42:46.798842",
     "exception": false,
     "start_time": "2022-05-10T14:42:46.640246",
     "status": "completed"
    },
    "tags": []
   },
   "outputs": [
    {
     "data": {
      "image/png": "[encoded data removed]",
      "text/plain": [
       "<Figure size 432x288 with 1 Axes>"
      ]
     },
     "metadata": {
      "needs_background": "light"
     },
     "output_type": "display_data"
    }
   ],
   "source": [
    "x = np.arange(-5.0,5.0,0.01) #set array from -5.0 to 5.0, diff 0.01\n",
    "y = sigmoid(x) #exe s\n",
    "plt.plot(x,y) #(x value in x axis, y value in y axis)\n",
    "plt.grid(True) #show grid\n",
    "plt.show()"
   ]
  },
  {
   "cell_type": "code",
   "execution_count": 10,
   "id": "3dea0536",
   "metadata": {
    "execution": {
     "iopub.execute_input": "2022-05-10T14:42:46.848483Z",
     "iopub.status.busy": "2022-05-10T14:42:46.848201Z",
     "iopub.status.idle": "2022-05-10T14:42:46.982626Z",
     "shell.execute_reply": "2022-05-10T14:42:46.981010Z"
    },
    "papermill": {
     "duration": 0.159485,
     "end_time": "2022-05-10T14:42:46.984841",
     "exception": false,
     "start_time": "2022-05-10T14:42:46.825356",
     "status": "completed"
    },
    "tags": []
   },
   "outputs": [
    {
     "name": "stdout",
     "output_type": "stream",
     "text": [
      "Model: \"sequential\"\n",
      "_________________________________________________________________\n",
      "Layer (type)                 Output Shape              Param #   \n",
      "=================================================================\n",
      "dense (Dense)                (None, 128)               100480    \n",
      "_________________________________________________________________\n",
      "dense_1 (Dense)              (None, 10)                1290      \n",
      "=================================================================\n",
      "Total params: 101,770\n",
      "Trainable params: 101,770\n",
      "Non-trainable params: 0\n",
      "_________________________________________________________________\n"
     ]
    },
    {
     "name": "stderr",
     "output_type": "stream",
     "text": [
      "2022-05-10 14:42:46.887844: I tensorflow/core/common_runtime/process_util.cc:146] Creating new thread pool with default inter op setting: 2. Tune using inter_op_parallelism_threads for best performance.\n"
     ]
    }
   ],
   "source": [
    "#establish Neural Network\n",
    "from tensorflow.keras.models import Sequential\n",
    "from tensorflow.keras.layers import Dense, Activation\n",
    "\n",
    "#define \"Sequential\" object\n",
    "model = Sequential()\n",
    "\n",
    "#add hidden layer\n",
    "model.add(Dense(128, #no. of neuron \n",
    "               input_dim = tr_x.shape[1], #input data's dimension\n",
    "                activation = 'sigmoid'))\n",
    "#add output layer\n",
    "model.add(Dense(10,\n",
    "              activation = 'softmax'))\n",
    "\n",
    "#generate\n",
    "model.compile(loss = 'categorical_crossentropy',\n",
    "             optimizer = 'adam',\n",
    "             metrics = [\"accuracy\"])\n",
    "\n",
    "#show the structure of the model\n",
    "model.summary()"
   ]
  },
  {
   "cell_type": "code",
   "execution_count": 11,
   "id": "c7b8394a",
   "metadata": {
    "execution": {
     "iopub.execute_input": "2022-05-10T14:42:47.049837Z",
     "iopub.status.busy": "2022-05-10T14:42:47.049078Z",
     "iopub.status.idle": "2022-05-10T14:42:52.743601Z",
     "shell.execute_reply": "2022-05-10T14:42:52.742901Z"
    },
    "papermill": {
     "duration": 5.729104,
     "end_time": "2022-05-10T14:42:52.745464",
     "exception": false,
     "start_time": "2022-05-10T14:42:47.016360",
     "status": "completed"
    },
    "tags": []
   },
   "outputs": [
    {
     "name": "stderr",
     "output_type": "stream",
     "text": [
      "2022-05-10 14:42:47.191168: I tensorflow/compiler/mlir/mlir_graph_optimization_pass.cc:185] None of the MLIR Optimization Passes are enabled (registered 2)\n"
     ]
    },
    {
     "name": "stdout",
     "output_type": "stream",
     "text": [
      "Epoch 1/5\n",
      "315/315 [==============================] - 2s 3ms/step - loss: 0.7339 - accuracy: 0.8327 - val_loss: 0.3842 - val_accuracy: 0.8999\n",
      "Epoch 2/5\n",
      "315/315 [==============================] - 1s 3ms/step - loss: 0.3269 - accuracy: 0.9101 - val_loss: 0.2940 - val_accuracy: 0.9181\n",
      "Epoch 3/5\n",
      "315/315 [==============================] - 1s 3ms/step - loss: 0.2627 - accuracy: 0.9260 - val_loss: 0.2535 - val_accuracy: 0.9251\n",
      "Epoch 4/5\n",
      "315/315 [==============================] - 1s 3ms/step - loss: 0.2259 - accuracy: 0.9367 - val_loss: 0.2219 - val_accuracy: 0.9365\n",
      "Epoch 5/5\n",
      "315/315 [==============================] - 1s 3ms/step - loss: 0.1970 - accuracy: 0.9445 - val_loss: 0.2058 - val_accuracy: 0.9396\n"
     ]
    }
   ],
   "source": [
    "#train the model \n",
    "result = model.fit(tr_x, tr_y, #train and test data\n",
    "                  epochs = 5, #train times\n",
    "                  batch_size = 100, #size of each batch\n",
    "                  validation_data = (va_x, va_y), #set validation data\n",
    "                  verbose = 1) #outpur result"
   ]
  },
  {
   "cell_type": "code",
   "execution_count": 12,
   "id": "90a8eecd",
   "metadata": {
    "execution": {
     "iopub.execute_input": "2022-05-10T14:42:52.838529Z",
     "iopub.status.busy": "2022-05-10T14:42:52.837966Z",
     "iopub.status.idle": "2022-05-10T14:42:53.833653Z",
     "shell.execute_reply": "2022-05-10T14:42:53.832620Z"
    },
    "papermill": {
     "duration": 1.044586,
     "end_time": "2022-05-10T14:42:53.836229",
     "exception": false,
     "start_time": "2022-05-10T14:42:52.791643",
     "status": "completed"
    },
    "tags": []
   },
   "outputs": [
    {
     "name": "stdout",
     "output_type": "stream",
     "text": [
      "[[1.5342821e-04 5.4086746e-07 9.9912518e-01 6.5787736e-04 1.0892240e-06\n",
      "  2.4088033e-05 4.3756258e-06 9.1365009e-06 2.3629293e-05 6.7730275e-07]\n",
      " [9.9942940e-01 7.7413993e-08 1.1753816e-04 2.0597854e-05 3.1629639e-08\n",
      "  4.0206753e-04 4.2026891e-06 5.2725595e-06 1.6662603e-05 4.0739451e-06]\n",
      " [4.2428503e-08 1.2861281e-05 3.8557449e-05 1.4320257e-04 3.5384536e-02\n",
      "  1.2179494e-04 1.7617963e-06 2.0219130e-05 6.5116733e-03 9.5776534e-01]\n",
      " [1.2153737e-02 8.2231585e-05 4.0897873e-01 1.2516674e-05 1.8277182e-01\n",
      "  5.9998049e-05 1.9095435e-03 3.2926925e-02 8.2572196e-03 3.5284719e-01]\n",
      " [4.4527489e-05 6.9251560e-05 7.6703560e-03 9.9163669e-01 3.0665637e-07\n",
      "  1.3070830e-04 3.0308231e-05 2.4048697e-05 3.9225825e-04 1.5611304e-06]]\n",
      "[2, 0, 9, 2, 3]\n"
     ]
    }
   ],
   "source": [
    "#use test data to predict\n",
    "result = model.predict(x_test)\n",
    "\n",
    "#output first 5 predict result\n",
    "print(result[:5])\n",
    "\n",
    "#output max index (predicted number)\n",
    "print([x.argmax() for x in result[:5]])\n",
    "y_test = [x.argmax() for x in result]\n"
   ]
  },
  {
   "cell_type": "code",
   "execution_count": 13,
   "id": "df6b4a84",
   "metadata": {
    "execution": {
     "iopub.execute_input": "2022-05-10T14:42:53.980266Z",
     "iopub.status.busy": "2022-05-10T14:42:53.979692Z",
     "iopub.status.idle": "2022-05-10T14:42:54.008084Z",
     "shell.execute_reply": "2022-05-10T14:42:54.007376Z"
    },
    "papermill": {
     "duration": 0.103061,
     "end_time": "2022-05-10T14:42:54.010047",
     "exception": false,
     "start_time": "2022-05-10T14:42:53.906986",
     "status": "completed"
    },
    "tags": []
   },
   "outputs": [
    {
     "data": {
      "text/html": [
       "<div>\n",
       "<style scoped>\n",
       "    .dataframe tbody tr th:only-of-type {\n",
       "        vertical-align: middle;\n",
       "    }\n",
       "\n",
       "    .dataframe tbody tr th {\n",
       "        vertical-align: top;\n",
       "    }\n",
       "\n",
       "    .dataframe thead th {\n",
       "        text-align: right;\n",
       "    }\n",
       "</style>\n",
       "<table border=\"1\" class=\"dataframe\">\n",
       "  <thead>\n",
       "    <tr style=\"text-align: right;\">\n",
       "      <th></th>\n",
       "      <th>ImageId</th>\n",
       "      <th>Label</th>\n",
       "    </tr>\n",
       "  </thead>\n",
       "  <tbody>\n",
       "    <tr>\n",
       "      <th>0</th>\n",
       "      <td>1</td>\n",
       "      <td>0</td>\n",
       "    </tr>\n",
       "    <tr>\n",
       "      <th>1</th>\n",
       "      <td>2</td>\n",
       "      <td>0</td>\n",
       "    </tr>\n",
       "    <tr>\n",
       "      <th>2</th>\n",
       "      <td>3</td>\n",
       "      <td>0</td>\n",
       "    </tr>\n",
       "    <tr>\n",
       "      <th>3</th>\n",
       "      <td>4</td>\n",
       "      <td>0</td>\n",
       "    </tr>\n",
       "    <tr>\n",
       "      <th>4</th>\n",
       "      <td>5</td>\n",
       "      <td>0</td>\n",
       "    </tr>\n",
       "  </tbody>\n",
       "</table>\n",
       "</div>"
      ],
      "text/plain": [
       "   ImageId  Label\n",
       "0        1      0\n",
       "1        2      0\n",
       "2        3      0\n",
       "3        4      0\n",
       "4        5      0"
      ]
     },
     "execution_count": 13,
     "metadata": {},
     "output_type": "execute_result"
    }
   ],
   "source": [
    "submit_df = pd.read_csv('/kaggle/input/digit-recognizer/sample_submission.csv')\n",
    "\n",
    "#output first 5 result\n",
    "submit_df.head()"
   ]
  },
  {
   "cell_type": "code",
   "execution_count": 14,
   "id": "9eb23bd8",
   "metadata": {
    "execution": {
     "iopub.execute_input": "2022-05-10T14:42:54.154424Z",
     "iopub.status.busy": "2022-05-10T14:42:54.154138Z",
     "iopub.status.idle": "2022-05-10T14:42:54.169694Z",
     "shell.execute_reply": "2022-05-10T14:42:54.169062Z"
    },
    "papermill": {
     "duration": 0.09035,
     "end_time": "2022-05-10T14:42:54.171764",
     "exception": false,
     "start_time": "2022-05-10T14:42:54.081414",
     "status": "completed"
    },
    "tags": []
   },
   "outputs": [
    {
     "data": {
      "text/html": [
       "<div>\n",
       "<style scoped>\n",
       "    .dataframe tbody tr th:only-of-type {\n",
       "        vertical-align: middle;\n",
       "    }\n",
       "\n",
       "    .dataframe tbody tr th {\n",
       "        vertical-align: top;\n",
       "    }\n",
       "\n",
       "    .dataframe thead th {\n",
       "        text-align: right;\n",
       "    }\n",
       "</style>\n",
       "<table border=\"1\" class=\"dataframe\">\n",
       "  <thead>\n",
       "    <tr style=\"text-align: right;\">\n",
       "      <th></th>\n",
       "      <th>ImageId</th>\n",
       "      <th>Label</th>\n",
       "    </tr>\n",
       "  </thead>\n",
       "  <tbody>\n",
       "    <tr>\n",
       "      <th>0</th>\n",
       "      <td>1</td>\n",
       "      <td>2</td>\n",
       "    </tr>\n",
       "    <tr>\n",
       "      <th>1</th>\n",
       "      <td>2</td>\n",
       "      <td>0</td>\n",
       "    </tr>\n",
       "    <tr>\n",
       "      <th>2</th>\n",
       "      <td>3</td>\n",
       "      <td>9</td>\n",
       "    </tr>\n",
       "    <tr>\n",
       "      <th>3</th>\n",
       "      <td>4</td>\n",
       "      <td>2</td>\n",
       "    </tr>\n",
       "    <tr>\n",
       "      <th>4</th>\n",
       "      <td>5</td>\n",
       "      <td>3</td>\n",
       "    </tr>\n",
       "  </tbody>\n",
       "</table>\n",
       "</div>"
      ],
      "text/plain": [
       "   ImageId  Label\n",
       "0        1      2\n",
       "1        2      0\n",
       "2        3      9\n",
       "3        4      2\n",
       "4        5      3"
      ]
     },
     "execution_count": 14,
     "metadata": {},
     "output_type": "execute_result"
    }
   ],
   "source": [
    "submit_df['Label'] = y_test\n",
    "\n",
    "submit_df.head()"
   ]
  },
  {
   "cell_type": "code",
   "execution_count": 15,
   "id": "b0dff8d1",
   "metadata": {
    "execution": {
     "iopub.execute_input": "2022-05-10T14:42:54.277252Z",
     "iopub.status.busy": "2022-05-10T14:42:54.277008Z",
     "iopub.status.idle": "2022-05-10T14:42:54.326969Z",
     "shell.execute_reply": "2022-05-10T14:42:54.326173Z"
    },
    "papermill": {
     "duration": 0.100908,
     "end_time": "2022-05-10T14:42:54.329488",
     "exception": false,
     "start_time": "2022-05-10T14:42:54.228580",
     "status": "completed"
    },
    "tags": []
   },
   "outputs": [],
   "source": [
    "submit_df.to_csv('submission.csv', index = False)"
   ]
  }
 ],
 "metadata": {
  "kernelspec": {
   "display_name": "Python 3",
   "language": "python",
   "name": "python3"
  },
  "language_info": {
   "codemirror_mode": {
    "name": "ipython",
    "version": 3
   },
   "file_extension": ".py",
   "mimetype": "text/x-python",
   "name": "python",
   "nbconvert_exporter": "python",
   "pygments_lexer": "ipython3",
   "version": "3.7.12"
  },
  "papermill": {
   "default_parameters": {},
   "duration": 38.828585,
   "end_time": "2022-05-10T14:42:57.262640",
   "environment_variables": {},
   "exception": null,
   "input_path": "__notebook__.ipynb",
   "output_path": "__notebook__.ipynb",
   "parameters": {},
   "start_time": "2022-05-10T14:42:18.434055",
   "version": "2.3.4"
  }
 },
 "nbformat": 4,
 "nbformat_minor": 5
}
